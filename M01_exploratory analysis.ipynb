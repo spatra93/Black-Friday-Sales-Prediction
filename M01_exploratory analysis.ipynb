{
 "cells": [
  {
   "cell_type": "markdown",
   "metadata": {},
   "source": [
    "# Import Packages"
   ]
  },
  {
   "cell_type": "code",
   "execution_count": 90,
   "metadata": {},
   "outputs": [],
   "source": [
    "import pandas as pd\n",
    "import matplotlib.pyplot as plt\n",
    "import numpy as np\n",
    "from sklearn.linear_model import LinearRegression\n",
    "from sklearn import tree\n",
    "from sklearn.metrics import explained_variance_score, r2_score, mean_squared_error\n",
    "from scipy.signal import savgol_filter\n",
    "from sklearn.decomposition import PCA\n",
    "from sklearn.preprocessing import StandardScaler\n",
    "from sklearn import linear_model\n",
    "from sklearn.model_selection import cross_val_predict"
   ]
  },
  {
   "cell_type": "markdown",
   "metadata": {},
   "source": [
    "# Import Data for analysis"
   ]
  },
  {
   "cell_type": "code",
   "execution_count": 8,
   "metadata": {},
   "outputs": [],
   "source": [
    "train = pd.read_csv(\"train.csv\")\n",
    "test = pd.read_csv(\"test.csv\")"
   ]
  },
  {
   "cell_type": "markdown",
   "metadata": {},
   "source": [
    "# Perform EDA"
   ]
  },
  {
   "cell_type": "code",
   "execution_count": 24,
   "metadata": {},
   "outputs": [],
   "source": [
    "def EDA(df):\n",
    "    print(\"Name of Columns in the dataframe: \")\n",
    "    print(df.columns)\n",
    "    print(\"Size of the dataframe: \")\n",
    "    print(df.shape)\n",
    "    print(\"Dataframe Info: \")\n",
    "    print(df.info())\n",
    "    print(\"Sample Data: \")\n",
    "    print(df.head(5))\n",
    "    print(\"Columns with null value: \")\n",
    "    print(df.isnull().any(axis=0))"
   ]
  },
  {
   "cell_type": "code",
   "execution_count": 25,
   "metadata": {},
   "outputs": [
    {
     "name": "stdout",
     "output_type": "stream",
     "text": [
      "Name of Columns in the dataframe: \n",
      "Index(['User_ID', 'Product_ID', 'Gender', 'Age', 'Occupation', 'City_Category',\n",
      "       'Stay_In_Current_City_Years', 'Marital_Status', 'Product_Category_1',\n",
      "       'Product_Category_2', 'Product_Category_3', 'Purchase'],\n",
      "      dtype='object')\n",
      "Size of the dataframe: \n",
      "(550068, 12)\n",
      "Dataframe Info: \n",
      "<class 'pandas.core.frame.DataFrame'>\n",
      "RangeIndex: 550068 entries, 0 to 550067\n",
      "Data columns (total 12 columns):\n",
      " #   Column                      Non-Null Count   Dtype  \n",
      "---  ------                      --------------   -----  \n",
      " 0   User_ID                     550068 non-null  int64  \n",
      " 1   Product_ID                  550068 non-null  object \n",
      " 2   Gender                      550068 non-null  object \n",
      " 3   Age                         550068 non-null  object \n",
      " 4   Occupation                  550068 non-null  int64  \n",
      " 5   City_Category               550068 non-null  object \n",
      " 6   Stay_In_Current_City_Years  550068 non-null  object \n",
      " 7   Marital_Status              550068 non-null  int64  \n",
      " 8   Product_Category_1          550068 non-null  int64  \n",
      " 9   Product_Category_2          376430 non-null  float64\n",
      " 10  Product_Category_3          166821 non-null  float64\n",
      " 11  Purchase                    550068 non-null  int64  \n",
      "dtypes: float64(2), int64(5), object(5)\n",
      "memory usage: 50.4+ MB\n",
      "None\n",
      "Sample Data: \n",
      "   User_ID Product_ID Gender   Age  Occupation City_Category  \\\n",
      "0  1000001  P00069042      F  0-17          10             A   \n",
      "1  1000001  P00248942      F  0-17          10             A   \n",
      "2  1000001  P00087842      F  0-17          10             A   \n",
      "3  1000001  P00085442      F  0-17          10             A   \n",
      "4  1000002  P00285442      M   55+          16             C   \n",
      "\n",
      "  Stay_In_Current_City_Years  Marital_Status  Product_Category_1  \\\n",
      "0                          2               0                   3   \n",
      "1                          2               0                   1   \n",
      "2                          2               0                  12   \n",
      "3                          2               0                  12   \n",
      "4                         4+               0                   8   \n",
      "\n",
      "   Product_Category_2  Product_Category_3  Purchase  \n",
      "0                 NaN                 NaN      8370  \n",
      "1                 6.0                14.0     15200  \n",
      "2                 NaN                 NaN      1422  \n",
      "3                14.0                 NaN      1057  \n",
      "4                 NaN                 NaN      7969  \n",
      "Columns with null value: \n",
      "User_ID                       False\n",
      "Product_ID                    False\n",
      "Gender                        False\n",
      "Age                           False\n",
      "Occupation                    False\n",
      "City_Category                 False\n",
      "Stay_In_Current_City_Years    False\n",
      "Marital_Status                False\n",
      "Product_Category_1            False\n",
      "Product_Category_2             True\n",
      "Product_Category_3             True\n",
      "Purchase                      False\n",
      "dtype: bool\n"
     ]
    }
   ],
   "source": [
    "EDA(train)"
   ]
  },
  {
   "cell_type": "code",
   "execution_count": 26,
   "metadata": {},
   "outputs": [
    {
     "name": "stdout",
     "output_type": "stream",
     "text": [
      "Name of Columns in the dataframe: \n",
      "Index(['User_ID', 'Product_ID', 'Gender', 'Age', 'Occupation', 'City_Category',\n",
      "       'Stay_In_Current_City_Years', 'Marital_Status', 'Product_Category_1',\n",
      "       'Product_Category_2', 'Product_Category_3'],\n",
      "      dtype='object')\n",
      "Size of the dataframe: \n",
      "(233599, 11)\n",
      "Dataframe Info: \n",
      "<class 'pandas.core.frame.DataFrame'>\n",
      "RangeIndex: 233599 entries, 0 to 233598\n",
      "Data columns (total 11 columns):\n",
      " #   Column                      Non-Null Count   Dtype  \n",
      "---  ------                      --------------   -----  \n",
      " 0   User_ID                     233599 non-null  int64  \n",
      " 1   Product_ID                  233599 non-null  object \n",
      " 2   Gender                      233599 non-null  object \n",
      " 3   Age                         233599 non-null  object \n",
      " 4   Occupation                  233599 non-null  int64  \n",
      " 5   City_Category               233599 non-null  object \n",
      " 6   Stay_In_Current_City_Years  233599 non-null  object \n",
      " 7   Marital_Status              233599 non-null  int64  \n",
      " 8   Product_Category_1          233599 non-null  int64  \n",
      " 9   Product_Category_2          161255 non-null  float64\n",
      " 10  Product_Category_3          71037 non-null   float64\n",
      "dtypes: float64(2), int64(4), object(5)\n",
      "memory usage: 19.6+ MB\n",
      "None\n",
      "Sample Data: \n",
      "   User_ID Product_ID Gender    Age  Occupation City_Category  \\\n",
      "0  1000004  P00128942      M  46-50           7             B   \n",
      "1  1000009  P00113442      M  26-35          17             C   \n",
      "2  1000010  P00288442      F  36-45           1             B   \n",
      "3  1000010  P00145342      F  36-45           1             B   \n",
      "4  1000011  P00053842      F  26-35           1             C   \n",
      "\n",
      "  Stay_In_Current_City_Years  Marital_Status  Product_Category_1  \\\n",
      "0                          2               1                   1   \n",
      "1                          0               0                   3   \n",
      "2                         4+               1                   5   \n",
      "3                         4+               1                   4   \n",
      "4                          1               0                   4   \n",
      "\n",
      "   Product_Category_2  Product_Category_3  \n",
      "0                11.0                 NaN  \n",
      "1                 5.0                 NaN  \n",
      "2                14.0                 NaN  \n",
      "3                 9.0                 NaN  \n",
      "4                 5.0                12.0  \n",
      "Columns with null value: \n",
      "User_ID                       False\n",
      "Product_ID                    False\n",
      "Gender                        False\n",
      "Age                           False\n",
      "Occupation                    False\n",
      "City_Category                 False\n",
      "Stay_In_Current_City_Years    False\n",
      "Marital_Status                False\n",
      "Product_Category_1            False\n",
      "Product_Category_2             True\n",
      "Product_Category_3             True\n",
      "dtype: bool\n"
     ]
    }
   ],
   "source": [
    "EDA(test)"
   ]
  },
  {
   "cell_type": "markdown",
   "metadata": {},
   "source": [
    "# Perform EDA on the train Data (Variable Level):"
   ]
  },
  {
   "cell_type": "code",
   "execution_count": 30,
   "metadata": {},
   "outputs": [
    {
     "name": "stdout",
     "output_type": "stream",
     "text": [
      "P00265242    1880\n",
      "P00025442    1615\n",
      "P00110742    1612\n",
      "P00112142    1562\n",
      "P00057642    1470\n",
      "             ... \n",
      "P00350742       1\n",
      "P00204442       1\n",
      "P00083542       1\n",
      "P00143242       1\n",
      "P00077242       1\n",
      "Name: Product_ID, Length: 3631, dtype: int64\n",
      "3631\n"
     ]
    }
   ],
   "source": [
    "print(train['Product_ID'].value_counts())\n",
    "print(len(train['Product_ID'].unique()))"
   ]
  },
  {
   "cell_type": "code",
   "execution_count": 32,
   "metadata": {},
   "outputs": [
    {
     "name": "stdout",
     "output_type": "stream",
     "text": [
      "M    0.753105\n",
      "F    0.246895\n",
      "Name: Gender, dtype: float64\n"
     ]
    }
   ],
   "source": [
    "print(train['Gender'].value_counts(2))"
   ]
  },
  {
   "cell_type": "code",
   "execution_count": 33,
   "metadata": {},
   "outputs": [
    {
     "name": "stdout",
     "output_type": "stream",
     "text": [
      "26-35    0.399200\n",
      "36-45    0.199999\n",
      "18-25    0.181178\n",
      "46-50    0.083082\n",
      "51-55    0.069993\n",
      "55+      0.039093\n",
      "0-17     0.027455\n",
      "Name: Age, dtype: float64\n"
     ]
    }
   ],
   "source": [
    "print(train['Age'].value_counts(2))"
   ]
  },
  {
   "cell_type": "code",
   "execution_count": 34,
   "metadata": {},
   "outputs": [
    {
     "name": "stdout",
     "output_type": "stream",
     "text": [
      "4     0.131453\n",
      "0     0.126599\n",
      "7     0.107501\n",
      "1     0.086218\n",
      "17    0.072796\n",
      "20    0.061014\n",
      "12    0.056682\n",
      "14    0.049647\n",
      "2     0.048336\n",
      "16    0.046123\n",
      "6     0.037005\n",
      "3     0.032087\n",
      "10    0.023506\n",
      "5     0.022137\n",
      "15    0.022115\n",
      "11    0.021063\n",
      "19    0.015382\n",
      "13    0.014049\n",
      "18    0.012039\n",
      "9     0.011437\n",
      "8     0.002811\n",
      "Name: Occupation, dtype: float64\n"
     ]
    }
   ],
   "source": [
    "print(train['Occupation'].value_counts(2))"
   ]
  },
  {
   "cell_type": "code",
   "execution_count": 40,
   "metadata": {},
   "outputs": [
    {
     "name": "stdout",
     "output_type": "stream",
     "text": [
      "B    0.420263\n",
      "C    0.311189\n",
      "A    0.268549\n",
      "Name: City_Category, dtype: float64\n"
     ]
    }
   ],
   "source": [
    "print(train['City_Category'].value_counts(2))   "
   ]
  },
  {
   "cell_type": "code",
   "execution_count": 39,
   "metadata": {},
   "outputs": [
    {
     "name": "stdout",
     "output_type": "stream",
     "text": [
      "1     0.352358\n",
      "2     0.185137\n",
      "3     0.173224\n",
      "4+    0.154028\n",
      "0     0.135252\n",
      "Name: Stay_In_Current_City_Years, dtype: float64\n"
     ]
    }
   ],
   "source": [
    "print(train['Stay_In_Current_City_Years'].value_counts(2))   "
   ]
  },
  {
   "cell_type": "code",
   "execution_count": 38,
   "metadata": {},
   "outputs": [
    {
     "name": "stdout",
     "output_type": "stream",
     "text": [
      "0    0.590347\n",
      "1    0.409653\n",
      "Name: Marital_Status, dtype: float64\n"
     ]
    }
   ],
   "source": [
    "print(train['Marital_Status'].value_counts(2))"
   ]
  },
  {
   "cell_type": "code",
   "execution_count": 42,
   "metadata": {},
   "outputs": [
    {
     "name": "stdout",
     "output_type": "stream",
     "text": [
      "8.0     0.170252\n",
      "14.0    0.146396\n",
      "2.0     0.130747\n",
      "16.0    0.114908\n",
      "15.0    0.100563\n",
      "5.0     0.069694\n",
      "4.0     0.068212\n",
      "6.0     0.043743\n",
      "11.0    0.037547\n",
      "17.0    0.035385\n",
      "13.0    0.027976\n",
      "9.0     0.015124\n",
      "12.0    0.014685\n",
      "10.0    0.008084\n",
      "3.0     0.007661\n",
      "18.0    0.007359\n",
      "7.0     0.001663\n",
      "Name: Product_Category_2, dtype: float64\n"
     ]
    }
   ],
   "source": [
    "print(train['Product_Category_1'].value_counts(2))"
   ]
  },
  {
   "cell_type": "code",
   "execution_count": 43,
   "metadata": {},
   "outputs": [
    {
     "name": "stdout",
     "output_type": "stream",
     "text": [
      "8.0     0.170252\n",
      "14.0    0.146396\n",
      "2.0     0.130747\n",
      "16.0    0.114908\n",
      "15.0    0.100563\n",
      "5.0     0.069694\n",
      "4.0     0.068212\n",
      "6.0     0.043743\n",
      "11.0    0.037547\n",
      "17.0    0.035385\n",
      "13.0    0.027976\n",
      "9.0     0.015124\n",
      "12.0    0.014685\n",
      "10.0    0.008084\n",
      "3.0     0.007661\n",
      "18.0    0.007359\n",
      "7.0     0.001663\n",
      "Name: Product_Category_2, dtype: float64\n"
     ]
    }
   ],
   "source": [
    "print(train['Product_Category_2'].value_counts(2))"
   ]
  },
  {
   "cell_type": "code",
   "execution_count": 44,
   "metadata": {},
   "outputs": [
    {
     "name": "stdout",
     "output_type": "stream",
     "text": [
      "16.0    0.195635\n",
      "15.0    0.167923\n",
      "14.0    0.110466\n",
      "17.0    0.100119\n",
      "5.0     0.099856\n",
      "8.0     0.075302\n",
      "9.0     0.069410\n",
      "12.0    0.055425\n",
      "13.0    0.032724\n",
      "6.0     0.029313\n",
      "18.0    0.027748\n",
      "4.0     0.011240\n",
      "11.0    0.010820\n",
      "10.0    0.010346\n",
      "3.0     0.003675\n",
      "Name: Product_Category_3, dtype: float64\n"
     ]
    }
   ],
   "source": [
    "print(train['Product_Category_3'].value_counts(2))"
   ]
  },
  {
   "cell_type": "code",
   "execution_count": 45,
   "metadata": {},
   "outputs": [
    {
     "data": {
      "text/plain": [
       "Product_Category_1  Product_Category_2  Product_Category_3\n",
       "1                   2.0                 3.0                    613\n",
       "                                        4.0                    524\n",
       "                                        5.0                   7982\n",
       "                                        6.0                   1924\n",
       "                                        8.0                   2800\n",
       "                                                              ... \n",
       "11                  15.0                16.0                   850\n",
       "12                  14.0                17.0                   159\n",
       "13                  14.0                16.0                   519\n",
       "                    15.0                16.0                   537\n",
       "15                  16.0                17.0                   151\n",
       "Length: 137, dtype: int64"
      ]
     },
     "execution_count": 45,
     "metadata": {},
     "output_type": "execute_result"
    }
   ],
   "source": [
    "train.groupby(['Product_Category_1','Product_Category_2','Product_Category_3']).size() "
   ]
  },
  {
   "cell_type": "code",
   "execution_count": 53,
   "metadata": {},
   "outputs": [
    {
     "data": {
      "image/png": "[encoded data removed]",
      "text/plain": [
       "<Figure size 432x288 with 1 Axes>"
      ]
     },
     "metadata": {
      "needs_background": "light"
     },
     "output_type": "display_data"
    }
   ],
   "source": [
    "plt.hist(np.sqrt(train['Purchase']))\n",
    "plt.show()"
   ]
  },
  {
   "cell_type": "code",
   "execution_count": 54,
   "metadata": {},
   "outputs": [
    {
     "data": {
      "image/png": "[encoded data removed]",
      "text/plain": [
       "<Figure size 432x288 with 1 Axes>"
      ]
     },
     "metadata": {
      "needs_background": "light"
     },
     "output_type": "display_data"
    }
   ],
   "source": [
    "plt.hist(train['Purchase'])\n",
    "plt.show()"
   ]
  },
  {
   "cell_type": "markdown",
   "metadata": {},
   "source": [
    "Perform Baseline Linear Regression Model"
   ]
  },
  {
   "cell_type": "code",
   "execution_count": 81,
   "metadata": {},
   "outputs": [],
   "source": [
    "categorical_columns = ['Gender','Age','Occupation','City_Category','Stay_In_Current_City_Years','Marital_Status','Product_Category_1']\n",
    "for i in categorical_columns:\n",
    "    train[i] = train[i].astype('category')\n",
    "    train[i] = train[i].cat.codes\n",
    "    train[i].fillna(train[i].mode(),inplace=True)\n",
    "    train[i] = train[i].astype('category')"
   ]
  },
  {
   "cell_type": "code",
   "execution_count": 82,
   "metadata": {},
   "outputs": [],
   "source": [
    "X = train.drop(['Purchase','User_ID','Product_ID','Product_Category_2','Product_Category_3'], axis=1)\n",
    "y = train['Purchase']"
   ]
  },
  {
   "cell_type": "code",
   "execution_count": 83,
   "metadata": {},
   "outputs": [
    {
     "name": "stdout",
     "output_type": "stream",
     "text": [
      "<class 'pandas.core.frame.DataFrame'>\n",
      "RangeIndex: 550068 entries, 0 to 550067\n",
      "Data columns (total 7 columns):\n",
      " #   Column                      Non-Null Count   Dtype   \n",
      "---  ------                      --------------   -----   \n",
      " 0   Gender                      550068 non-null  category\n",
      " 1   Age                         550068 non-null  category\n",
      " 2   Occupation                  550068 non-null  category\n",
      " 3   City_Category               550068 non-null  category\n",
      " 4   Stay_In_Current_City_Years  550068 non-null  category\n",
      " 5   Marital_Status              550068 non-null  category\n",
      " 6   Product_Category_1          550068 non-null  category\n",
      "dtypes: category(7)\n",
      "memory usage: 3.7 MB\n"
     ]
    }
   ],
   "source": [
    "X.info()"
   ]
  },
  {
   "cell_type": "markdown",
   "metadata": {},
   "source": [
    "# Perform Linear Regression and Decision Tree to understand the Baseline"
   ]
  },
  {
   "cell_type": "code",
   "execution_count": 84,
   "metadata": {},
   "outputs": [],
   "source": [
    "lr = LinearRegression()\n",
    "mdl = lr.fit(X,y)"
   ]
  },
  {
   "cell_type": "code",
   "execution_count": 85,
   "metadata": {},
   "outputs": [],
   "source": [
    "y_pred = lr.predict(X)"
   ]
  },
  {
   "cell_type": "code",
   "execution_count": 80,
   "metadata": {},
   "outputs": [
    {
     "name": "stdout",
     "output_type": "stream",
     "text": [
      "R2_Score:  0.1244132849776095\n",
      "RMSE:  22092051.06013008\n"
     ]
    }
   ],
   "source": [
    "print(\"R2_Score: \",r2_score(y,y_pred))\n",
    "print(\"RMSE: \",mean_squared_error(y,y_pred))"
   ]
  },
  {
   "cell_type": "code",
   "execution_count": 87,
   "metadata": {},
   "outputs": [],
   "source": [
    "clf = tree.DecisionTreeRegressor()\n",
    "clf = clf.fit(X, y)\n",
    "y_pred = clf.predict(X)"
   ]
  },
  {
   "cell_type": "code",
   "execution_count": 88,
   "metadata": {},
   "outputs": [
    {
     "name": "stdout",
     "output_type": "stream",
     "text": [
      "R2_Score:  0.6932070730646582\n",
      "RMSE:  7740735.315483867\n"
     ]
    }
   ],
   "source": [
    "print(\"R2_Score: \",r2_score(y,y_pred))\n",
    "print(\"RMSE: \",mean_squared_error(y,y_pred))"
   ]
  }
 ],
 "metadata": {
  "kernelspec": {
   "display_name": "Python 3",
   "language": "python",
   "name": "python3"
  },
  "language_info": {
   "codemirror_mode": {
    "name": "ipython",
    "version": 3
   },
   "file_extension": ".py",
   "mimetype": "text/x-python",
   "name": "python",
   "nbconvert_exporter": "python",
   "pygments_lexer": "ipython3",
   "version": "3.8.3"
  }
 },
 "nbformat": 4,
 "nbformat_minor": 4
}
